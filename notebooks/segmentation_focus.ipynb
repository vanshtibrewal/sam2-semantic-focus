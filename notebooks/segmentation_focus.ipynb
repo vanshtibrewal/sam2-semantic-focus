{
 "cells": [
  {
   "cell_type": "markdown",
   "id": "6e7a0db5-7f04-4845-8b11-684fe6e9f7f2",
   "metadata": {},
   "source": [
    "# Video segmentation with SAM 2"
   ]
  },
  {
   "cell_type": "code",
   "execution_count": 1,
   "id": "e5318a85-5bf7-4880-b2b3-15e4db24d796",
   "metadata": {},
   "outputs": [],
   "source": [
    "import os\n",
    "import torch\n",
    "import numpy as np\n",
    "import matplotlib.pyplot as plt\n",
    "from PIL import Image\n",
    "import shutil\n",
    "import pandas as pd\n",
    "import IPython\n",
    "from tqdm import tqdm"
   ]
  },
  {
   "cell_type": "code",
   "execution_count": null,
   "id": "08ba49d8-8c22-4eba-a2ab-46eee839287f",
   "metadata": {},
   "outputs": [],
   "source": [
    "# use bfloat16 for the entire notebook\n",
    "torch.autocast(device_type=\"cuda\", dtype=torch.bfloat16).__enter__()\n",
    "\n",
    "if torch.cuda.get_device_properties(0).major >= 8:\n",
    "    # turn on tfloat32 for Ampere GPUs (https://pytorch.org/docs/stable/notes/cuda.html#tensorfloat-32-tf32-on-ampere-devices)\n",
    "    torch.backends.cuda.matmul.allow_tf32 = True\n",
    "    torch.backends.cudnn.allow_tf32 = True"
   ]
  },
  {
   "cell_type": "code",
   "execution_count": 3,
   "id": "bbd43758",
   "metadata": {},
   "outputs": [],
   "source": [
    "def show_mask(mask, ax, obj_id=None, random_color=False):\n",
    "    if random_color:\n",
    "        color = np.concatenate([np.random.random(3), np.array([0.6])], axis=0)\n",
    "    else:\n",
    "        cmap = plt.get_cmap(\"tab10\")\n",
    "        cmap_idx = 0 if obj_id is None else obj_id\n",
    "        color = np.array([*cmap(cmap_idx)[:3], 0.6])\n",
    "    h, w = mask.shape[-2:]\n",
    "    mask_image = mask.reshape(h, w, 1) * color.reshape(1, 1, -1)\n",
    "    ax.imshow(mask_image)\n",
    "\n",
    "\n",
    "def show_points(coords, labels, ax, marker_size=200):\n",
    "    pos_points = coords[labels==1]\n",
    "    neg_points = coords[labels==0]\n",
    "    ax.scatter(pos_points[:, 0], pos_points[:, 1], color='green', marker='*', s=marker_size, edgecolor='white', linewidth=1.25)\n",
    "    ax.scatter(neg_points[:, 0], neg_points[:, 1], color='red', marker='*', s=marker_size, edgecolor='white', linewidth=1.25)\n",
    "\n",
    "\n",
    "def show_box(box, ax):\n",
    "    x0, y0 = box[0], box[1]\n",
    "    w, h = box[2] - box[0], box[3] - box[1]\n",
    "    ax.add_patch(plt.Rectangle((x0, y0), w, h, edgecolor='green', facecolor=(0, 0, 0, 0), lw=2))\n",
    "\n",
    "def df_set(df, image_name, key, value):\n",
    "    df.at[df.index[df['image_name'] == image_name][0], key] = value\n",
    "\n",
    "def df_get(df, image_name, key):\n",
    "    return df.at[df.index[df['image_name'] == image_name][0], key]"
   ]
  },
  {
   "cell_type": "markdown",
   "id": "e9524663",
   "metadata": {},
   "source": [
    "### Set up each split"
   ]
  },
  {
   "cell_type": "code",
   "execution_count": 4,
   "id": "bedd79d2",
   "metadata": {},
   "outputs": [],
   "source": [
    "root_dir = \"/path/to/root/dir"
   ]
  },
  {
   "cell_type": "code",
   "execution_count": 7,
   "id": "6abaf5bc",
   "metadata": {},
   "outputs": [
    {
     "name": "stdout",
     "output_type": "stream",
     "text": [
      "Found 20 videos (splits)\n"
     ]
    }
   ],
   "source": [
    "video_paths = []\n",
    "\n",
    "for vid_name in os.listdir(root_dir):\n",
    "    vid_path = os.path.join(root_dir, vid_name)\n",
    "\n",
    "    frame_path = os.path.join(vid_path, \"frames\")\n",
    "\n",
    "    for split_name in os.listdir(frame_path):\n",
    "        split_path = os.path.join(frame_path, split_name)\n",
    "        video_paths.append(split_path)\n",
    "    \n",
    "print(f\"Found {len(video_paths)} videos\")"
   ]
  },
  {
   "cell_type": "code",
   "execution_count": 8,
   "id": "125e1a37",
   "metadata": {},
   "outputs": [],
   "source": [
    "for vid_path in video_paths:\n",
    "    images = os.listdir(vid_path)\n",
    "    if \"data.csv\" in images:\n",
    "        print(f\"WARN - {vid_path} already has data.csv\")\n",
    "        continue\n",
    "    data = {'image_name' : images}\n",
    "    df = pd.DataFrame(data)\n",
    "    df.to_csv(os.path.join(vid_path, \"data.csv\"), index=False)"
   ]
  },
  {
   "cell_type": "markdown",
   "id": "ae8e0779-751f-4224-9b04-ed0f0b406500",
   "metadata": {},
   "source": [
    "### Loading the SAM 2 video predictor"
   ]
  },
  {
   "cell_type": "code",
   "execution_count": 9,
   "id": "f5f3245e-b4d6-418b-a42a-a67e0b3b5aec",
   "metadata": {},
   "outputs": [],
   "source": [
    "from sam2.build_sam import build_sam2_video_predictor\n",
    "\n",
    "sam2_checkpoint = \"../checkpoints/sam2_hiera_tiny.pt\"\n",
    "model_cfg = \"sam2_hiera_t.yaml\"\n",
    "\n",
    "predictor = build_sam2_video_predictor(model_cfg, sam2_checkpoint)"
   ]
  },
  {
   "cell_type": "code",
   "execution_count": null,
   "id": "db507bbd",
   "metadata": {},
   "outputs": [],
   "source": [
    "i = 0\n",
    "video_dir = \"./videos/to_process\"\n",
    "\n",
    "\n",
    "while i < len(video_paths):\n",
    "    if os.path.exists(video_dir):\n",
    "        shutil.rmtree(video_dir)\n",
    "    os.makedirs(video_dir)\n",
    "\n",
    "    path = video_paths[i]\n",
    "    frame_names = [\n",
    "        p for p in os.listdir(path)\n",
    "        if os.path.splitext(p)[-1] in [\".jpg\", \".jpeg\", \".JPG\", \".JPEG\"]\n",
    "    ]\n",
    "    frame_names.sort(key=lambda p: int(os.path.splitext(p)[0]))\n",
    "    frame_path = os.path.join(path, frame_names[0])\n",
    "    first_frame = Image.open(frame_path)\n",
    "\n",
    "    shutil.copy(frame_path, video_dir)\n",
    "    inference_state = predictor.init_state(video_path=video_dir)\n",
    "    predictor.reset_state(inference_state)\n",
    "\n",
    "    IPython.display.clear_output()\n",
    "    plt.clf()\n",
    "    \n",
    "    print(frame_path)\n",
    "    plt.figure(figsize=(9, 6))\n",
    "    plt.imshow(first_frame)\n",
    "\n",
    "    df = pd.read_csv(os.path.join(path, \"data.csv\"))\n",
    "    if 'click_point' in df.columns:\n",
    "        df.drop(columns=['click_point'])\n",
    "    if 'click_x' not in df.columns:\n",
    "        df['click_x'] = -1.0\n",
    "    if 'click_y' not in df.columns:\n",
    "        df['click_y'] = -1.0\n",
    "    if df_get(df, frame_names[0], 'click_x') != -1.0:\n",
    "        x = df_get(df, frame_names[0], 'click_x')\n",
    "        y = df_get(df, frame_names[0], 'click_y')\n",
    "        points = np.array([[x, y]], dtype=np.float32)\n",
    "        labels = np.array([1], np.int32)\n",
    "        show_points(points, labels, plt.gca())\n",
    "\n",
    "        _, out_obj_ids, out_mask_logits = predictor.add_new_points_or_box(\n",
    "            inference_state=inference_state,\n",
    "            frame_idx=0,\n",
    "            obj_id=1,\n",
    "            points=points,\n",
    "            labels=labels,\n",
    "        )\n",
    "        show_mask((out_mask_logits[0] > 0.0).cpu().numpy(), plt.gca(), obj_id=out_obj_ids[0])\n",
    "\n",
    "        plt.show()\n",
    "        inp = input(\"confirm y/n?\")\n",
    "        if inp == \"y\":\n",
    "            i += 1\n",
    "            continue\n",
    "    else:\n",
    "        plt.show()\n",
    "\n",
    "    inp = input(\"Enter x y\")\n",
    "    x, y = inp.split()\n",
    "    x, y = float(x), float(y)\n",
    "\n",
    "    IPython.display.clear_output()\n",
    "    plt.clf()\n",
    "\n",
    "    plt.figure(figsize=(9, 6))\n",
    "    plt.imshow(first_frame)\n",
    "\n",
    "    points = np.array([[x, y]], dtype=np.float32)\n",
    "    labels = np.array([1], np.int32)\n",
    "    show_points(points, labels, plt.gca())\n",
    "\n",
    "    _, out_obj_ids, out_mask_logits = predictor.add_new_points_or_box(\n",
    "            inference_state=inference_state,\n",
    "            frame_idx=0,\n",
    "            obj_id=1,\n",
    "            points=points,\n",
    "            labels=labels,\n",
    "        )\n",
    "    show_mask((out_mask_logits[0] > 0.0).cpu().numpy(), plt.gca(), obj_id=out_obj_ids[0])\n",
    "\n",
    "    plt.show()\n",
    "\n",
    "    inp = input(\"confirm y/n?\")\n",
    "\n",
    "    IPython.display.clear_output()\n",
    "    plt.clf()\n",
    "\n",
    "    if inp == \"y\":\n",
    "        df_set(df, frame_names[0], 'click_x', x)\n",
    "        df_set(df, frame_names[0], 'click_y', y)\n",
    "        df.to_csv(os.path.join(path, \"data.csv\"), index=False)\n",
    "        i += 1"
   ]
  }
 ],
 "metadata": {
  "kernelspec": {
   "display_name": "Python 3",
   "language": "python",
   "name": "python3"
  },
  "language_info": {
   "codemirror_mode": {
    "name": "ipython",
    "version": 3
   },
   "file_extension": ".py",
   "mimetype": "text/x-python",
   "name": "python",
   "nbconvert_exporter": "python",
   "pygments_lexer": "ipython3",
   "version": "3.9.6"
  }
 },
 "nbformat": 4,
 "nbformat_minor": 5
}
